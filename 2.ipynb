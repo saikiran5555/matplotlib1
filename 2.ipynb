{
 "cells": [
  {
   "cell_type": "markdown",
   "id": "a16bc6fc",
   "metadata": {},
   "source": [
    "A scatter plot is a type of data visualization that displays individual data points as dots or markers on a two-dimensional plane. It is particularly useful for visualizing the relationship between two continuous variables. Scatter plots can help identify patterns, correlations, and outliers in the data."
   ]
  },
  {
   "cell_type": "code",
   "execution_count": null,
   "id": "a41832d5",
   "metadata": {},
   "outputs": [],
   "source": [
    "import numpy as np\n",
    "import matplotlib.pyplot as plt\n",
    "\n",
    "# Generate random data\n",
    "np.random.seed(3)\n",
    "x = 3 + np.random.normal(0, 2, 50)\n",
    "y = 3 + np.random.normal(0, 2, len(x))\n",
    "\n",
    "# Create a scatter plot\n",
    "plt.scatter(x, y, label='Scatter Plot', color='blue', marker='o')\n",
    "\n",
    "# Add title, xlabel, and ylabel\n",
    "plt.title('Scatter Plot Example')\n",
    "plt.xlabel('X-axis')\n",
    "plt.ylabel('Y-axis')\n",
    "\n",
    "# Display the legend (optional)\n",
    "plt.legend()\n",
    "\n",
    "# Show the plot\n",
    "plt.show()\n"
   ]
  },
  {
   "cell_type": "markdown",
   "id": "0abb4ad8",
   "metadata": {},
   "source": [
    "In this code:\n",
    "\n",
    "We import NumPy and Matplotlib.\n",
    "\n",
    "We generate random data for x and y using NumPy's random.normal function with a specified mean and standard deviation.\n",
    "\n",
    "We create a scatter plot using plt.scatter(), specifying the data for the x and y axes. We also add a label, color, and marker style to the plot.\n",
    "\n",
    "We add a title using plt.title(), label the x-axis using plt.xlabel(), and label the y-axis using plt.ylabel().\n",
    "\n",
    "Optionally, we can display the legend if needed using plt.legend().\n",
    "\n",
    "Finally, we use plt.show() to display the scatter plot with the specified title, x-axis label, and y-axis label."
   ]
  }
 ],
 "metadata": {
  "kernelspec": {
   "display_name": "Python 3 (ipykernel)",
   "language": "python",
   "name": "python3"
  },
  "language_info": {
   "codemirror_mode": {
    "name": "ipython",
    "version": 3
   },
   "file_extension": ".py",
   "mimetype": "text/x-python",
   "name": "python",
   "nbconvert_exporter": "python",
   "pygments_lexer": "ipython3",
   "version": "3.10.9"
  }
 },
 "nbformat": 4,
 "nbformat_minor": 5
}
