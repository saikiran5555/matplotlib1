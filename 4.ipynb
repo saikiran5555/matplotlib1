{
 "cells": [
  {
   "cell_type": "markdown",
   "id": "ecb59f42",
   "metadata": {},
   "source": [
    "\n",
    "A bar plot (or bar chart) is a data visualization technique that represents categorical data with rectangular bars. Each bar's length or height is proportional to the value it represents, making it a great choice for displaying and comparing data in different categories. Bar plots are commonly used to show the distribution of data, compare values across categories, and visualize categorical relationships.\n",
    "\n",
    "A horizontal bar plot is a variation of the bar plot where the bars are drawn horizontally instead of vertically. It is often used when you have long category labels or when you want to emphasize the comparison of values in a horizontal layout.\n",
    "\n",
    "To create both a bar plot and a horizontal bar plot using the provided data, you can use Matplotlib. Here's how to do it:"
   ]
  },
  {
   "cell_type": "code",
   "execution_count": null,
   "id": "251d6f84",
   "metadata": {},
   "outputs": [],
   "source": [
    "import numpy as np\n",
    "import matplotlib.pyplot as plt\n",
    "\n",
    "# Data\n",
    "company = np.array([\"Apple\", \"Microsoft\", \"Google\", \"AMD\"])\n",
    "profit = np.array([3000, 8000, 1000, 10000])\n",
    "\n",
    "# Create a bar plot\n",
    "plt.figure(figsize=(8, 4))\n",
    "plt.bar(company, profit, color='blue')\n",
    "plt.title('Bar Plot')\n",
    "plt.xlabel('Company')\n",
    "plt.ylabel('Profit (in billions)')\n",
    "plt.show()\n",
    "\n",
    "# Create a horizontal bar plot\n",
    "plt.figure(figsize=(8, 4))\n",
    "plt.barh(company, profit, color='green')\n",
    "plt.title('Horizontal Bar Plot')\n",
    "plt.xlabel('Profit (in billions)')\n",
    "plt.ylabel('Company')\n",
    "plt.show()\n"
   ]
  },
  {
   "cell_type": "markdown",
   "id": "5789f7e1",
   "metadata": {},
   "source": [
    "In this code:\n",
    "\n",
    "We use plt.bar() to create a bar plot, and plt.barh() to create a horizontal bar plot.\n",
    "\n",
    "We specify the company names as the categories on the x-axis and profit values on the y-axis for both plots.\n",
    "\n",
    "We set the color, title, x-label, and y-label for each plot.\n",
    "\n",
    "We use plt.show() to display both the bar plot and the horizontal bar plot."
   ]
  }
 ],
 "metadata": {
  "kernelspec": {
   "display_name": "Python 3 (ipykernel)",
   "language": "python",
   "name": "python3"
  },
  "language_info": {
   "codemirror_mode": {
    "name": "ipython",
    "version": 3
   },
   "file_extension": ".py",
   "mimetype": "text/x-python",
   "name": "python",
   "nbconvert_exporter": "python",
   "pygments_lexer": "ipython3",
   "version": "3.10.9"
  }
 },
 "nbformat": 4,
 "nbformat_minor": 5
}
