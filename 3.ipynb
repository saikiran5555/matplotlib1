{
 "cells": [
  {
   "cell_type": "markdown",
   "id": "111b9388",
   "metadata": {},
   "source": [
    "The subplot() function in Matplotlib is used to create multiple subplots or small plots within a single figure. It allows you to display multiple plots or charts side by side or in a grid format, making it easier to compare different data or visualize multiple aspects of your data in the same figure.\n",
    "\n",
    "Here's how to use the subplot() function to create four line plots:"
   ]
  },
  {
   "cell_type": "code",
   "execution_count": null,
   "id": "69d21f34",
   "metadata": {},
   "outputs": [],
   "source": [
    "import numpy as np\n",
    "import matplotlib.pyplot as plt\n",
    "\n",
    "# Data for four line plots\n",
    "x1 = np.array([0, 1, 2, 3, 4, 5])\n",
    "y1 = np.array([0, 100, 200, 300, 400, 500])\n",
    "\n",
    "x2 = np.array([0, 1, 2, 3, 4, 5])\n",
    "y2 = np.array([50, 20, 40, 20, 60, 70])\n",
    "\n",
    "x3 = np.array([0, 1, 2, 3, 4, 5])\n",
    "y3 = np.array([10, 20, 30, 40, 50, 60])\n",
    "\n",
    "x4 = np.array([0, 1, 2, 3, 4, 5])\n",
    "y4 = np.array([200, 350, 250, 550, 450, 150])\n",
    "\n",
    "# Create subplots\n",
    "plt.figure(figsize=(12, 8))  # Create a figure\n",
    "\n",
    "# Subplot 1\n",
    "plt.subplot(2, 2, 1)  # 2 rows, 2 columns, 1st subplot\n",
    "plt.plot(x1, y1)\n",
    "plt.title('Line Plot 1')\n",
    "\n",
    "# Subplot 2\n",
    "plt.subplot(2, 2, 2)  # 2 rows, 2 columns, 2nd subplot\n",
    "plt.plot(x2, y2)\n",
    "plt.title('Line Plot 2')\n",
    "\n",
    "# Subplot 3\n",
    "plt.subplot(2, 2, 3)  # 2 rows, 2 columns, 3rd subplot\n",
    "plt.plot(x3, y3)\n",
    "plt.title('Line Plot 3')\n",
    "\n",
    "# Subplot 4\n",
    "plt.subplot(2, 2, 4)  # 2 rows, 2 columns, 4th subplot\n",
    "plt.plot(x4, y4)\n",
    "plt.title('Line Plot 4')\n",
    "\n",
    "# Adjust layout and display the plots\n",
    "plt.tight_layout()\n",
    "plt.show()\n"
   ]
  },
  {
   "cell_type": "markdown",
   "id": "5c123cc1",
   "metadata": {},
   "source": [
    "In this code:\n",
    "\n",
    "We create four sets of data (x1, y1), (x2, y2), (x3, y3), and (x4, y4).\n",
    "\n",
    "We create a figure using plt.figure() and specify its size.\n",
    "\n",
    "We use the plt.subplot() function to create four subplots in a 2x2 grid format.\n",
    "\n",
    "For each subplot, we use plt.plot() to create a line plot using the corresponding data (x1, y1), (x2, y2), (x3, y3), and (x4, y4).\n",
    "\n",
    "We set titles for each subplot using plt.title().\n",
    "\n",
    "We use plt.tight_layout() to adjust the layout to prevent overlapping.\n",
    "\n",
    "Finally, we use plt.show() to display the four line plots in a single figure with subplots."
   ]
  }
 ],
 "metadata": {
  "kernelspec": {
   "display_name": "Python 3 (ipykernel)",
   "language": "python",
   "name": "python3"
  },
  "language_info": {
   "codemirror_mode": {
    "name": "ipython",
    "version": 3
   },
   "file_extension": ".py",
   "mimetype": "text/x-python",
   "name": "python",
   "nbconvert_exporter": "python",
   "pygments_lexer": "ipython3",
   "version": "3.10.9"
  }
 },
 "nbformat": 4,
 "nbformat_minor": 5
}
