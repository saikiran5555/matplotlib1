{
 "cells": [
  {
   "cell_type": "markdown",
   "id": "88cbad2f",
   "metadata": {},
   "source": [
    "A box plot, also known as a box-and-whisker plot, is a data visualization technique used to display the distribution and summary statistics of a dataset. It provides a graphical summary of the central tendency, spread, and skewness of the data. A box plot is particularly useful for identifying outliers and understanding the distribution of data within different groups or categories.\n",
    "\n",
    "A typical box plot consists of the following elements:\n",
    "\n",
    "Box: The box represents the interquartile range (IQR), which contains the middle 50% of the data. The bottom and top edges of the box represent the first quartile (Q1) and the third quartile (Q3), respectively.\n",
    "\n",
    "Median Line: A line inside the box represents the median, which is the middle value when the data is sorted.\n",
    "\n",
    "Whiskers: Whiskers extend from the edges of the box to the minimum and maximum values within a certain range (usually 1.5 times the IQR). Data points outside this range are considered outliers and are typically plotted as individual points.\n",
    "\n",
    "Outliers: Individual data points that fall outside the whiskers are plotted as outliers.\n",
    "\n",
    "Box plots are used to compare the distribution of data across different groups or categories, detect the presence of outliers, and gain insights into the spread and central tendency of the data.\n",
    "\n",
    "To create a box plot for the given data using Matplotlib, you can use the following code:"
   ]
  },
  {
   "cell_type": "code",
   "execution_count": null,
   "id": "ebc1352a",
   "metadata": {},
   "outputs": [],
   "source": [
    "import numpy as np\n",
    "import matplotlib.pyplot as plt\n",
    "\n",
    "# Data\n",
    "box1 = np.random.normal(100, 10, 200)\n",
    "box2 = np.random.normal(90, 20, 200)\n",
    "\n",
    "# Create a box plot\n",
    "plt.figure(figsize=(8, 6))\n",
    "plt.boxplot([box1, box2], labels=['Box 1', 'Box 2'])\n",
    "plt.title('Box Plot')\n",
    "plt.xlabel('Box')\n",
    "plt.ylabel('Values')\n",
    "plt.show()\n"
   ]
  }
 ],
 "metadata": {
  "kernelspec": {
   "display_name": "Python 3 (ipykernel)",
   "language": "python",
   "name": "python3"
  },
  "language_info": {
   "codemirror_mode": {
    "name": "ipython",
    "version": 3
   },
   "file_extension": ".py",
   "mimetype": "text/x-python",
   "name": "python",
   "nbconvert_exporter": "python",
   "pygments_lexer": "ipython3",
   "version": "3.10.9"
  }
 },
 "nbformat": 4,
 "nbformat_minor": 5
}
